{
 "cells": [
  {
   "cell_type": "markdown",
   "metadata": {},
   "source": [
    "## <center>Preprocesamiento de datos para **World University Rankings 2023</center>**\n"
   ]
  },
  {
   "cell_type": "markdown",
   "metadata": {},
   "source": [
    "<div style=\"text-align: justify;\">\n",
    "Como primer paso, se importó el conjunto de datos usando la librería <b>Pandas</b> de Python. Posteriormente se hizo una pequeña inspección de los mismos para tener una idea de su magnitud.\n",
    "</div>\n"
   ]
  },
  {
   "cell_type": "code",
   "execution_count": 2,
   "metadata": {},
   "outputs": [
    {
     "name": "stdout",
     "output_type": "stream",
     "text": [
      "(2341, 13)\n"
     ]
    }
   ],
   "source": [
    "import pandas as pd\n",
    "\n",
    "data = pd.read_csv(\"/home/danielhz19/Documents/VSCode/UCV/ELECTIVAS/DM/Practica/Asignacion1/World University Rankings 2023.csv\")\n",
    "df = pd.DataFrame(data)\n",
    "\n",
    "\n",
    "print(data.shape)"
   ]
  },
  {
   "cell_type": "markdown",
   "metadata": {},
   "source": [
    "<div style=\"text-align: justify;\">\n",
    "Dado la gran cantidad de filas en el conjunto de datos, se decidió inspeccionar mas a fondo usando Excel como herramienta de visualización.\n",
    "</div>"
   ]
  },
  {
   "cell_type": "markdown",
   "metadata": {},
   "source": [
    "![Captura de pantalla al momento de importar los datos en Excel](/home/danielhz19/Documents/VSCode/UCV/ELECTIVAS/DM/Practica/Asignacion1/images/DM_Asig1_ExcelDataImport.PNG)"
   ]
  },
  {
   "cell_type": "markdown",
   "metadata": {},
   "source": [
    "<div style=\"text-align: justify;\">\n",
    "Se detectaron varios problemas funcionales, como pueden ser la inconsistencia de los valores en la columna \"University Rank\", dado que a partir de la observación 200, dichos valores se convierten en un rango en lugar de un valor específico y la existencia del valor \"Reporter\", a pesar de ser valores validos dentro del sistema mundial de ranking universitario, pueden presentar problemas al momento de procesar los datos. De igual forma ocurre con el campo \"Name of University\" puesto que hay observaciones con el valor: <b>NaN</b>, cabe destacar que algunas de estas observaciones poseen datos en las demás columnas, sin embargo, el nombre de una universidad no es algo que podamos estimar con dichos datos. en la columna destinada a almacenar la ubicación de la universidad también existe un problema funcional, puesto que los campos vacíos podrían afectar al momento de procesar los datos.\n",
    "</div>\n"
   ]
  },
  {
   "cell_type": "markdown",
   "metadata": {},
   "source": [
    "<div style=\"text-align: justify;\">\n",
    "Como primera accion, se filtraron las observaciones que tenian en la columna \"Name of University\" un valor invalido, es decir, NaN o directamente un campo vacio.\n",
    "</div>"
   ]
  },
  {
   "cell_type": "code",
   "execution_count": 4,
   "metadata": {},
   "outputs": [
    {
     "name": "stdout",
     "output_type": "stream",
     "text": [
      "     University Rank                     Name of University        Location  \\\n",
      "0                  1                   University of Oxford  United Kingdom   \n",
      "1                  2                     Harvard University   United States   \n",
      "2                  3                University of Cambridge  United Kingdom   \n",
      "3                  3                    Stanford University   United States   \n",
      "4                  5  Massachusetts Institute of Technology   United States   \n",
      "...              ...                                    ...             ...   \n",
      "2336               -     University of the West of Scotland             NaN   \n",
      "2337               -                  University of Windsor             NaN   \n",
      "2338               -            University of Wolverhampton             NaN   \n",
      "2339               -                University of Wuppertal             NaN   \n",
      "2340               -    Xi’an Jiaotong-Liverpool University             NaN   \n",
      "\n",
      "     No of student  No of student per staff International Student  \\\n",
      "0           20,965                     10.6                   42%   \n",
      "1           21,887                      9.6                   25%   \n",
      "2           20,185                     11.3                   39%   \n",
      "3           16,164                      7.1                   24%   \n",
      "4           11,415                      8.2                   33%   \n",
      "...            ...                      ...                   ...   \n",
      "2336           NaN                      NaN                   NaN   \n",
      "2337           NaN                      NaN                   NaN   \n",
      "2338           NaN                      NaN                   NaN   \n",
      "2339           NaN                      NaN                   NaN   \n",
      "2340           NaN                      NaN                   NaN   \n",
      "\n",
      "     Female:Male Ratio OverAll Score  Teaching Score  Research Score  \\\n",
      "0              48 : 52          96.4            92.3            99.7   \n",
      "1              50 : 50          95.2            94.8            99.0   \n",
      "2              47 : 53          94.8            90.9            99.5   \n",
      "3              46 : 54          94.8            94.2            96.7   \n",
      "4              40 : 60          94.2            90.7            93.6   \n",
      "...                ...           ...             ...             ...   \n",
      "2336               NaN     34.0–39.2            24.1            15.5   \n",
      "2337               NaN     34.0–39.2            35.1            29.4   \n",
      "2338               NaN     34.0–39.2            18.2            14.3   \n",
      "2339               NaN     34.0–39.2            26.4            26.7   \n",
      "2340               NaN     34.0–39.2            17.8            14.8   \n",
      "\n",
      "      Citations Score  Industry Income Score  International Outlook Score  \n",
      "0                99.0                   74.9                         96.2  \n",
      "1                99.3                   49.5                         80.5  \n",
      "2                97.0                   54.2                         95.8  \n",
      "3                99.8                   65.0                         79.8  \n",
      "4                99.8                   90.9                         89.3  \n",
      "...               ...                    ...                          ...  \n",
      "2336             61.5                   37.9                         76.8  \n",
      "2337             34.5                   44.2                         88.7  \n",
      "2338             68.8                   37.3                         72.0  \n",
      "2339             52.8                   52.1                         47.6  \n",
      "2340             68.2                   38.2                         72.4  \n",
      "\n",
      "[2233 rows x 13 columns]\n"
     ]
    }
   ],
   "source": [
    "invalid_names = df['Name of University'].isna()\n",
    "df.drop(df[invalid_names].index, inplace=True)\n",
    "\n",
    "print(df)"
   ]
  },
  {
   "cell_type": "markdown",
   "metadata": {},
   "source": [
    "<div style=\"text-align: justify;\">\n",
    "Para los campos vacíos en la columna Location, se decidió sustituir dichos valor por un valor \"Unknown\", a pesar de que se puede completar este campo de forma manual utilizando el nombre de la universidad.\n",
    "</div>"
   ]
  },
  {
   "cell_type": "code",
   "execution_count": 24,
   "metadata": {},
   "outputs": [
    {
     "name": "stdout",
     "output_type": "stream",
     "text": [
      "0       United Kingdom\n",
      "1        United States\n",
      "2       United Kingdom\n",
      "3        United States\n",
      "4        United States\n",
      "             ...      \n",
      "2336           Unknown\n",
      "2337           Unknown\n",
      "2338           Unknown\n",
      "2339           Unknown\n",
      "2340           Unknown\n",
      "Name: Location, Length: 2233, dtype: object\n"
     ]
    }
   ],
   "source": [
    "df['Location'].fillna('Unknown', inplace=True)\n",
    "print(df['Location'])"
   ]
  },
  {
   "cell_type": "markdown",
   "metadata": {},
   "source": [
    "<div style=\"text-align: justify;\">\n",
    "Para la variable \"No of student\" se notaron ciertas inconsistencias en los valores, ya que existen universidades con un valor no entero de estudiantes, además de ello se encontraron observaciones con valores muy bajos. En este caso el primer paso fue modificar el formato de representación a valores enteros, posteriormente se puede calcular un promedio de estudiantes de las universidades de un mismo país, de esa forma se pueden corregir las inconsistencias mencionadas anteriormente.\n",
    "</div>"
   ]
  },
  {
   "cell_type": "code",
   "execution_count": 43,
   "metadata": {},
   "outputs": [
    {
     "ename": "AttributeError",
     "evalue": "Can only use .str accessor with string values!",
     "output_type": "error",
     "traceback": [
      "\u001b[0;31m---------------------------------------------------------------------------\u001b[0m",
      "\u001b[0;31mAttributeError\u001b[0m                            Traceback (most recent call last)",
      "Cell \u001b[0;32mIn[43], line 1\u001b[0m\n\u001b[0;32m----> 1\u001b[0m df[\u001b[38;5;124m'\u001b[39m\u001b[38;5;124mNo of student\u001b[39m\u001b[38;5;124m'\u001b[39m] \u001b[38;5;241m=\u001b[39m df[\u001b[38;5;124m'\u001b[39m\u001b[38;5;124mNo of student\u001b[39m\u001b[38;5;124m'\u001b[39m]\u001b[38;5;241m.\u001b[39mstr\u001b[38;5;241m.\u001b[39mreplace(\u001b[38;5;124m'\u001b[39m\u001b[38;5;124m,\u001b[39m\u001b[38;5;124m'\u001b[39m,\u001b[38;5;124m'\u001b[39m\u001b[38;5;124m'\u001b[39m)\n\u001b[1;32m      2\u001b[0m df[\u001b[38;5;124m'\u001b[39m\u001b[38;5;124mNo of student\u001b[39m\u001b[38;5;124m'\u001b[39m] \u001b[38;5;241m=\u001b[39m pd\u001b[38;5;241m.\u001b[39mto_numeric(df[\u001b[38;5;124m'\u001b[39m\u001b[38;5;124mNo of student\u001b[39m\u001b[38;5;124m'\u001b[39m], errors \u001b[38;5;241m=\u001b[39m \u001b[38;5;124m'\u001b[39m\u001b[38;5;124mcoerce\u001b[39m\u001b[38;5;124m'\u001b[39m)\n\u001b[1;32m      3\u001b[0m \u001b[38;5;28mprint\u001b[39m(df)\n",
      "File \u001b[0;32m~/anaconda3/lib/python3.11/site-packages/pandas/core/generic.py:6204\u001b[0m, in \u001b[0;36mNDFrame.__getattr__\u001b[0;34m(self, name)\u001b[0m\n\u001b[1;32m   6197\u001b[0m \u001b[38;5;28;01mif\u001b[39;00m (\n\u001b[1;32m   6198\u001b[0m     name \u001b[38;5;129;01mnot\u001b[39;00m \u001b[38;5;129;01min\u001b[39;00m \u001b[38;5;28mself\u001b[39m\u001b[38;5;241m.\u001b[39m_internal_names_set\n\u001b[1;32m   6199\u001b[0m     \u001b[38;5;129;01mand\u001b[39;00m name \u001b[38;5;129;01mnot\u001b[39;00m \u001b[38;5;129;01min\u001b[39;00m \u001b[38;5;28mself\u001b[39m\u001b[38;5;241m.\u001b[39m_metadata\n\u001b[1;32m   6200\u001b[0m     \u001b[38;5;129;01mand\u001b[39;00m name \u001b[38;5;129;01mnot\u001b[39;00m \u001b[38;5;129;01min\u001b[39;00m \u001b[38;5;28mself\u001b[39m\u001b[38;5;241m.\u001b[39m_accessors\n\u001b[1;32m   6201\u001b[0m     \u001b[38;5;129;01mand\u001b[39;00m \u001b[38;5;28mself\u001b[39m\u001b[38;5;241m.\u001b[39m_info_axis\u001b[38;5;241m.\u001b[39m_can_hold_identifiers_and_holds_name(name)\n\u001b[1;32m   6202\u001b[0m ):\n\u001b[1;32m   6203\u001b[0m     \u001b[38;5;28;01mreturn\u001b[39;00m \u001b[38;5;28mself\u001b[39m[name]\n\u001b[0;32m-> 6204\u001b[0m \u001b[38;5;28;01mreturn\u001b[39;00m \u001b[38;5;28mobject\u001b[39m\u001b[38;5;241m.\u001b[39m\u001b[38;5;21m__getattribute__\u001b[39m(\u001b[38;5;28mself\u001b[39m, name)\n",
      "File \u001b[0;32m~/anaconda3/lib/python3.11/site-packages/pandas/core/accessor.py:224\u001b[0m, in \u001b[0;36mCachedAccessor.__get__\u001b[0;34m(self, obj, cls)\u001b[0m\n\u001b[1;32m    221\u001b[0m \u001b[38;5;28;01mif\u001b[39;00m obj \u001b[38;5;129;01mis\u001b[39;00m \u001b[38;5;28;01mNone\u001b[39;00m:\n\u001b[1;32m    222\u001b[0m     \u001b[38;5;66;03m# we're accessing the attribute of the class, i.e., Dataset.geo\u001b[39;00m\n\u001b[1;32m    223\u001b[0m     \u001b[38;5;28;01mreturn\u001b[39;00m \u001b[38;5;28mself\u001b[39m\u001b[38;5;241m.\u001b[39m_accessor\n\u001b[0;32m--> 224\u001b[0m accessor_obj \u001b[38;5;241m=\u001b[39m \u001b[38;5;28mself\u001b[39m\u001b[38;5;241m.\u001b[39m_accessor(obj)\n\u001b[1;32m    225\u001b[0m \u001b[38;5;66;03m# Replace the property with the accessor object. Inspired by:\u001b[39;00m\n\u001b[1;32m    226\u001b[0m \u001b[38;5;66;03m# https://www.pydanny.com/cached-property.html\u001b[39;00m\n\u001b[1;32m    227\u001b[0m \u001b[38;5;66;03m# We need to use object.__setattr__ because we overwrite __setattr__ on\u001b[39;00m\n\u001b[1;32m    228\u001b[0m \u001b[38;5;66;03m# NDFrame\u001b[39;00m\n\u001b[1;32m    229\u001b[0m \u001b[38;5;28mobject\u001b[39m\u001b[38;5;241m.\u001b[39m\u001b[38;5;21m__setattr__\u001b[39m(obj, \u001b[38;5;28mself\u001b[39m\u001b[38;5;241m.\u001b[39m_name, accessor_obj)\n",
      "File \u001b[0;32m~/anaconda3/lib/python3.11/site-packages/pandas/core/strings/accessor.py:190\u001b[0m, in \u001b[0;36mStringMethods.__init__\u001b[0;34m(self, data)\u001b[0m\n\u001b[1;32m    187\u001b[0m \u001b[38;5;28;01mdef\u001b[39;00m \u001b[38;5;21m__init__\u001b[39m(\u001b[38;5;28mself\u001b[39m, data) \u001b[38;5;241m-\u001b[39m\u001b[38;5;241m>\u001b[39m \u001b[38;5;28;01mNone\u001b[39;00m:\n\u001b[1;32m    188\u001b[0m     \u001b[38;5;28;01mfrom\u001b[39;00m \u001b[38;5;21;01mpandas\u001b[39;00m\u001b[38;5;21;01m.\u001b[39;00m\u001b[38;5;21;01mcore\u001b[39;00m\u001b[38;5;21;01m.\u001b[39;00m\u001b[38;5;21;01marrays\u001b[39;00m\u001b[38;5;21;01m.\u001b[39;00m\u001b[38;5;21;01mstring_\u001b[39;00m \u001b[38;5;28;01mimport\u001b[39;00m StringDtype\n\u001b[0;32m--> 190\u001b[0m     \u001b[38;5;28mself\u001b[39m\u001b[38;5;241m.\u001b[39m_inferred_dtype \u001b[38;5;241m=\u001b[39m \u001b[38;5;28mself\u001b[39m\u001b[38;5;241m.\u001b[39m_validate(data)\n\u001b[1;32m    191\u001b[0m     \u001b[38;5;28mself\u001b[39m\u001b[38;5;241m.\u001b[39m_is_categorical \u001b[38;5;241m=\u001b[39m \u001b[38;5;28misinstance\u001b[39m(data\u001b[38;5;241m.\u001b[39mdtype, CategoricalDtype)\n\u001b[1;32m    192\u001b[0m     \u001b[38;5;28mself\u001b[39m\u001b[38;5;241m.\u001b[39m_is_string \u001b[38;5;241m=\u001b[39m \u001b[38;5;28misinstance\u001b[39m(data\u001b[38;5;241m.\u001b[39mdtype, StringDtype)\n",
      "File \u001b[0;32m~/anaconda3/lib/python3.11/site-packages/pandas/core/strings/accessor.py:244\u001b[0m, in \u001b[0;36mStringMethods._validate\u001b[0;34m(data)\u001b[0m\n\u001b[1;32m    241\u001b[0m inferred_dtype \u001b[38;5;241m=\u001b[39m lib\u001b[38;5;241m.\u001b[39minfer_dtype(values, skipna\u001b[38;5;241m=\u001b[39m\u001b[38;5;28;01mTrue\u001b[39;00m)\n\u001b[1;32m    243\u001b[0m \u001b[38;5;28;01mif\u001b[39;00m inferred_dtype \u001b[38;5;129;01mnot\u001b[39;00m \u001b[38;5;129;01min\u001b[39;00m allowed_types:\n\u001b[0;32m--> 244\u001b[0m     \u001b[38;5;28;01mraise\u001b[39;00m \u001b[38;5;167;01mAttributeError\u001b[39;00m(\u001b[38;5;124m\"\u001b[39m\u001b[38;5;124mCan only use .str accessor with string values!\u001b[39m\u001b[38;5;124m\"\u001b[39m)\n\u001b[1;32m    245\u001b[0m \u001b[38;5;28;01mreturn\u001b[39;00m inferred_dtype\n",
      "\u001b[0;31mAttributeError\u001b[0m: Can only use .str accessor with string values!"
     ]
    }
   ],
   "source": [
    "df['No of student'] = df['No of student'].str.replace(',','')\n",
    "df['No of student'] = pd.to_numeric(df['No of student'], errors = 'coerce')\n",
    "print(df)"
   ]
  },
  {
   "cell_type": "code",
   "execution_count": 44,
   "metadata": {},
   "outputs": [
    {
     "name": "stdout",
     "output_type": "stream",
     "text": [
      "0       20965.0\n",
      "1       21887.0\n",
      "2       20185.0\n",
      "3       16164.0\n",
      "4       11415.0\n",
      "         ...   \n",
      "2336        NaN\n",
      "2337        NaN\n",
      "2338        NaN\n",
      "2339        NaN\n",
      "2340        NaN\n",
      "Name: No of student, Length: 2233, dtype: float64\n"
     ]
    }
   ],
   "source": [
    "def lessThan1000(value):\n",
    "    return value < 1000\n",
    "\n",
    "valid_df = df[~df['No of student'].apply(lessThan1000)]\n",
    "\n",
    "avg_students_by_location = valid_df.groupby('Location')['No of student'].mean()\n",
    "\n",
    "def replaceWithAVG(row):\n",
    "    if lessThan1000(row['No of student']):\n",
    "        if row['Location'] == 'Unknown':\n",
    "            return row['No of student'] #Mantener valores originales para paises desconocidos\n",
    "        else:\n",
    "            return avg_students_by_location.get(row['Location'], row['No of student'])\n",
    "    else:\n",
    "        return row['No of student']\n",
    "    \n",
    "df['No of student'] = df.apply(replaceWithAVG, axis = 1)\n",
    "\n",
    "print(df['No of student'])"
   ]
  },
  {
   "cell_type": "markdown",
   "metadata": {},
   "source": [
    "<div style=\"text-align: justify;\">\n",
    "Se pueden dividir en 2 columnas el ratio entre estudiantes de sexo masculino y femenino, de forma que sea más cómodo de procesar.\n",
    "</div>"
   ]
  },
  {
   "cell_type": "code",
   "execution_count": 49,
   "metadata": {},
   "outputs": [
    {
     "name": "stdout",
     "output_type": "stream",
     "text": [
      "     University Rank                     Name of University        Location  \\\n",
      "0                  1                   University of Oxford  United Kingdom   \n",
      "1                  2                     Harvard University   United States   \n",
      "2                  3                University of Cambridge  United Kingdom   \n",
      "3                  3                    Stanford University   United States   \n",
      "4                  5  Massachusetts Institute of Technology   United States   \n",
      "...              ...                                    ...             ...   \n",
      "2336               -     University of the West of Scotland         Unknown   \n",
      "2337               -                  University of Windsor         Unknown   \n",
      "2338               -            University of Wolverhampton         Unknown   \n",
      "2339               -                University of Wuppertal         Unknown   \n",
      "2340               -    Xi’an Jiaotong-Liverpool University         Unknown   \n",
      "\n",
      "      No of student  No of student per staff International Student  \\\n",
      "0           20965.0                     10.6                   42%   \n",
      "1           21887.0                      9.6                   25%   \n",
      "2           20185.0                     11.3                   39%   \n",
      "3           16164.0                      7.1                   24%   \n",
      "4           11415.0                      8.2                   33%   \n",
      "...             ...                      ...                   ...   \n",
      "2336            NaN                      NaN                   NaN   \n",
      "2337            NaN                      NaN                   NaN   \n",
      "2338            NaN                      NaN                   NaN   \n",
      "2339            NaN                      NaN                   NaN   \n",
      "2340            NaN                      NaN                   NaN   \n",
      "\n",
      "     OverAll Score  Teaching Score  Research Score  Citations Score  \\\n",
      "0             96.4            92.3            99.7             99.0   \n",
      "1             95.2            94.8            99.0             99.3   \n",
      "2             94.8            90.9            99.5             97.0   \n",
      "3             94.8            94.2            96.7             99.8   \n",
      "4             94.2            90.7            93.6             99.8   \n",
      "...            ...             ...             ...              ...   \n",
      "2336     34.0–39.2            24.1            15.5             61.5   \n",
      "2337     34.0–39.2            35.1            29.4             34.5   \n",
      "2338     34.0–39.2            18.2            14.3             68.8   \n",
      "2339     34.0–39.2            26.4            26.7             52.8   \n",
      "2340     34.0–39.2            17.8            14.8             68.2   \n",
      "\n",
      "      Industry Income Score  International Outlook Score Female students %  \\\n",
      "0                      74.9                         96.2                48   \n",
      "1                      49.5                         80.5                50   \n",
      "2                      54.2                         95.8                47   \n",
      "3                      65.0                         79.8                46   \n",
      "4                      90.9                         89.3                40   \n",
      "...                     ...                          ...               ...   \n",
      "2336                   37.9                         76.8              None   \n",
      "2337                   44.2                         88.7              None   \n",
      "2338                   37.3                         72.0              None   \n",
      "2339                   52.1                         47.6              None   \n",
      "2340                   38.2                         72.4              None   \n",
      "\n",
      "     Male students %  \n",
      "0                 52  \n",
      "1                 50  \n",
      "2                 53  \n",
      "3                 54  \n",
      "4                 60  \n",
      "...              ...  \n",
      "2336            None  \n",
      "2337            None  \n",
      "2338            None  \n",
      "2339            None  \n",
      "2340            None  \n",
      "\n",
      "[2233 rows x 14 columns]\n"
     ]
    }
   ],
   "source": [
    "df['Female:Male Ratio'] = df['Female:Male Ratio'].str.replace(\" : \", \"\")\n",
    "\n",
    "def getFemaleRatio(ratio):\n",
    "    if pd.isna(ratio):\n",
    "        return None\n",
    "    else:\n",
    "        return str(ratio)[:2]\n",
    "    \n",
    "def getMaleRatio(ratio):\n",
    "    if pd.isna(ratio):\n",
    "        return None\n",
    "    else:\n",
    "        return str(ratio)[-2:]\n",
    "\n",
    "df['Female students %'] = df['Female:Male Ratio'].apply(getFemaleRatio)\n",
    "df['Male students %'] = df['Female:Male Ratio'].apply(getMaleRatio)\n",
    "\n",
    "df = df.drop('Female:Male Ratio', axis=1)\n",
    "print(df)"
   ]
  }
 ],
 "metadata": {
  "kernelspec": {
   "display_name": "base",
   "language": "python",
   "name": "python3"
  },
  "language_info": {
   "codemirror_mode": {
    "name": "ipython",
    "version": 3
   },
   "file_extension": ".py",
   "mimetype": "text/x-python",
   "name": "python",
   "nbconvert_exporter": "python",
   "pygments_lexer": "ipython3",
   "version": "3.11.7"
  }
 },
 "nbformat": 4,
 "nbformat_minor": 2
}
